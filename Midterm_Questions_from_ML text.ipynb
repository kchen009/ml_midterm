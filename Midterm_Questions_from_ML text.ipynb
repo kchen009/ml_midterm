{
 "cells": [
  {
   "cell_type": "markdown",
   "metadata": {},
   "source": [
    "### Directions"
   ]
  },
  {
   "cell_type": "markdown",
   "metadata": {},
   "source": [
    "Create 30 non-trivial multiple choice problems, 5 from each chapter 1-6. Each question should have 4 options. None of the options should be obviously correct or obviously wrong. The question should test an idea in the material. Each question should be for a different sub-section. You should have at least 5 questions for each chapter. None of the questions should come from the intro section of any chapter. Each student is makeing one post in this forum. Before you submit, please look at others posts. You should not repeat a question someone else posted. Since you can edit, you may post your chapter 1 questions, then add chapter 2, etc. so that you don't have to go back and re-edit. "
   ]
  },
  {
   "cell_type": "markdown",
   "metadata": {},
   "source": [
    "### Chapter 2"
   ]
  },
  {
   "cell_type": "markdown",
   "metadata": {},
   "source": [
    "Q1) Who first published the concept of the Perceptron learning rule?\n",
    "- a) Frank Rosenblatt (correct answer)\n",
    "- b) McColloch-Pitts\n",
    "- c) Bernard Widrow\n",
    "- d) Neil deGrasse Tyson"
   ]
  },
  {
   "cell_type": "markdown",
   "metadata": {},
   "source": [
    "Q2) The Adaptive Linear Neuron (Adaline), a single-layer neural network, helps lay the groundwork for understanding more advanced supervised machine learning algorithms by its...\n",
    "- a) defining and minimizing continuous cost functions (correct answer)\n",
    "- b) speeding up computations with vectorized operations\n",
    "- c) shuffling of training data for stochastic gradient descent\n",
    "- d) feature scaling "
   ]
  },
  {
   "cell_type": "markdown",
   "metadata": {},
   "source": [
    "Q3) The key difference between the Adaline rule and Perceptron rule is that:\n",
    "- a) Adaline requires fewers epochs for the training error to converge. \n",
    "- b) the weights are updated based on a linear activation function rather than a unit step function like in the perceptron. (correct)\n",
    "- c) The accuracy score of the Perceptron is usually higher than Adaline\n",
    "- d) Feature scaling can be applied in Adaline "
   ]
  },
  {
   "cell_type": "markdown",
   "metadata": {},
   "source": [
    "Q4) The key difference between stochastic gradient descent (SGD) and gradient descent (or batch gradient descent) is that:\n",
    "- a) In stochastic gradient descent, the weights are updated incrementally for each training sample, rather than updating the weights on basis of accumulated errors over all samples. (correct)\n",
    "- b) Batch gradient descent converges much quicker than SGD. \n",
    "- c) SGD is more computationally expensive than Batch gradient descent.\n",
    "- d) There are no differences. "
   ]
  },
  {
   "cell_type": "markdown",
   "metadata": {},
   "source": [
    "Q5) Which of the following is **not** true about **online learning** in SGD?\n",
    "- a) Model is trained on the fly as new training data arrives\n",
    "- b) Training data can be discarded after updating the model if storage is a concern. \n",
    "- c) It is not useful technique to train over big data sets. (correct)\n",
    "- d) Online training is a common technique used when it is computationally infeasable to train over the data set."
   ]
  },
  {
   "cell_type": "markdown",
   "metadata": {},
   "source": [
    "### Chapter 3"
   ]
  },
  {
   "cell_type": "markdown",
   "metadata": {},
   "source": [
    "1) Which of the following...."
   ]
  },
  {
   "cell_type": "code",
   "execution_count": null,
   "metadata": {},
   "outputs": [],
   "source": []
  },
  {
   "cell_type": "code",
   "execution_count": null,
   "metadata": {},
   "outputs": [],
   "source": []
  },
  {
   "cell_type": "code",
   "execution_count": null,
   "metadata": {},
   "outputs": [],
   "source": []
  }
 ],
 "metadata": {
  "kernelspec": {
   "display_name": "Python 3",
   "language": "python",
   "name": "python3"
  },
  "language_info": {
   "codemirror_mode": {
    "name": "ipython",
    "version": 3
   },
   "file_extension": ".py",
   "mimetype": "text/x-python",
   "name": "python",
   "nbconvert_exporter": "python",
   "pygments_lexer": "ipython3",
   "version": "3.6.4"
  }
 },
 "nbformat": 4,
 "nbformat_minor": 2
}
